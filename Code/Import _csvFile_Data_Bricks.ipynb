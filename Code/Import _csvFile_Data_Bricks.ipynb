{
 "cells": [
  {
   "cell_type": "code",
   "execution_count": 0,
   "metadata": {
    "application/vnd.databricks.v1+cell": {
     "cellMetadata": {
      "byteLimit": 2048000,
      "rowLimit": 10000
     },
     "inputWidgets": {},
     "nuid": "ae89a84e-5f50-42fd-920b-d30b868e9a4b",
     "showTitle": false,
     "tableResultSettingsMap": {},
     "title": ""
    }
   },
   "outputs": [
    {
     "output_type": "display_data",
     "data": {
      "text/html": [
       "<style scoped>\n",
       "  .table-result-container {\n",
       "    max-height: 300px;\n",
       "    overflow: auto;\n",
       "  }\n",
       "  table, th, td {\n",
       "    border: 1px solid black;\n",
       "    border-collapse: collapse;\n",
       "  }\n",
       "  th, td {\n",
       "    padding: 5px;\n",
       "  }\n",
       "  th {\n",
       "    text-align: left;\n",
       "  }\n",
       "</style><div class='table-result-container'><table class='table-result'><thead style='background-color: white'><tr><th>Product_ID</th><th>Product_Name</th><th>Price</th><th>Description</th><th>Features</th></tr></thead><tbody><tr><td>699.99</td><td>A high-end smartphone with advanced features</td><td>5G Connectivity</td><td> AI Camera</td><td> OLED Display</td></tr><tr><td>1099.99</td><td>Powerful laptop for productivity and gaming</td><td>15.6-inch Full HD</td><td> Intel Core i7</td><td> NVIDIA GeForce GTX 1650</td></tr><tr><td>899.99</td><td>4K UltraHD Smart TV with streaming capabilities</td><td>55-inch Display</td><td> Dolby Vision</td><td> Smart Remote</td></tr><tr><td>149.99</td><td>High-quality wireless headphones for music lovers</td><td>Bluetooth 5.0</td><td> Active Noise Cancellation</td><td> 20-hour Battery Life</td></tr><tr><td>549.99</td><td>Versatile tablet for work and entertainment</td><td>11-inch Display</td><td> S Pen Support</td><td> DeX Mode</td></tr><tr><td>49.99</td><td>Compact smart speaker with voice assistant</td><td>Voice Control</td><td> Music Streaming</td><td> Multi-Room Audio</td></tr><tr><td>299.99</td><td>Rugged action camera for capturing adventures</td><td>4K Video</td><td> Waterproof</td><td> Built-in Wi-Fi</td></tr><tr><td>499.99</td><td>Next-gen gaming console for immersive gameplay</td><td>4K Gaming</td><td> Ray Tracing</td><td> Fast Loading Times</td></tr><tr><td>199.99</td><td>Energy-efficient thermostat for home automation</td><td>Programmable</td><td> Smartphone App Control</td><td> Energy Savings</td></tr><tr><td>249.99</td><td>Smart robot vacuum for hands-free cleaning</td><td>Lidar Navigation</td><td> App Control</td><td> Multi-Surface Cleaning</td></tr><tr><td>199.99</td><td>Fitness-focused smartwatch with health tracking</td><td>Heart Rate Monitoring</td><td> GPS</td><td> Sleep Analysis</td></tr><tr><td>79.99</td><td>Portable Bluetooth speaker for on-the-go music</td><td>Waterproof</td><td> 12-hour Battery Life</td><td> Aux-in Port</td></tr><tr><td>29.99</td><td>Ergonomic wireless mouse for comfortable use</td><td>2.4GHz Connectivity</td><td> DPI Adjustable</td><td> Silent Click</td></tr><tr><td>149.99</td><td>High-speed external SSD for data storage</td><td>500GB Capacity</td><td> USB 3.1</td><td> Shock-resistant</td></tr><tr><td>129.99</td><td>Indoor/outdoor security camera for home surveillance</td><td>1080p HD</td><td> Night Vision</td><td> Motion Detection</td></tr><tr><td>79.99</td><td>Wireless in-ear earbuds with clear sound</td><td>Noise Isolation</td><td> Touch Controls</td><td> Charging Case</td></tr><tr><td>39.99</td><td>Multiport USB-C hub for laptop connectivity</td><td>4 USB Ports</td><td> HDMI</td><td> SD Card Reader</td></tr><tr><td>299.99</td><td>Compact projector for movie nights and presentations</td><td>720p HD</td><td> Keystone Correction</td><td> Built-in Speaker</td></tr><tr><td>59.99</td><td>High-tech electric toothbrush for oral hygiene</td><td>Sonic Technology</td><td> Timer</td><td> Pressure Sensor</td></tr><tr><td>49.99</td><td>Slim wireless keyboard for comfortable typing</td><td>Full-size Layout</td><td> Long Battery Life</td><td> Quiet Keys</td></tr><tr><td>999.99</td><td>Professional-grade drone for aerial photography</td><td>4K Camera</td><td> GPS</td><td> 30-minute Flight Time</td></tr><tr><td>199.99</td><td>Ergonomic desk chair for improved posture</td><td>Adjustable Height</td><td> Lumbar Support</td><td> Breathable Fabric</td></tr><tr><td>499.99</td><td>Complete home theater system for cinematic experience</td><td>5.1 Surround Sound</td><td> Blu-ray Player</td><td> Wireless Subwoofer</td></tr><tr><td>29.99</td><td>High-capacity portable charger for mobile devices</td><td>20000mAh Capacity</td><td> Quick Charge</td><td> LED Display</td></tr><tr><td>89.99</td><td>High-speed wireless router for fast internet</td><td>Dual-Band</td><td> Beamforming Technology</td><td> Parental Controls</td></tr><tr><td>79.99</td><td>Dash cam for recording driving adventures</td><td>1080p HD</td><td> G-Sensor</td><td> Loop Recording</td></tr><tr><td>19.99</td><td>Smart plug for remote control of devices</td><td>Voice Control</td><td> Timer Function</td><td> Energy Monitoring</td></tr><tr><td>399.99</td><td>Versatile hybrid bike for commuting and leisure</td><td>Aluminum Frame</td><td> 21-Speed Gears</td><td> Front Suspension</td></tr><tr><td>129.99</td><td>Large-capacity external hard drive for data backup</td><td>2TB Storage</td><td> USB 3.0</td><td> Automatic Backup</td></tr><tr><td>199.99</td><td>Mesh Wi-Fi system for whole-home coverage</td><td>Tri-Band</td><td> MU-MIMO</td><td> Mobile App Setup</td></tr><tr><td>129.99</td><td>Wireless earbuds with noise cancellation</td><td>ANC</td><td> Transparency Mode</td><td> IPX4 Water Resistance</td></tr><tr><td>149.99</td><td>Smart lock for enhanced home security</td><td>Keyless Entry</td><td> Smartphone Control</td><td> Auto-Locking</td></tr><tr><td>349.99</td><td>High-resolution 4K monitor for crystal-clear visuals</td><td>27-inch Display</td><td> HDR Support</td><td> USB-C Connectivity</td></tr><tr><td>79.99</td><td>RGB gaming keyboard with customizable lighting</td><td>Mechanical Keys</td><td> Anti-Ghosting</td><td> Programmable Macros</td></tr><tr><td>299.99</td><td>Virtual reality headset for immersive gaming and experiences</td><td>OLED Display</td><td> Room-scale Tracking</td><td> Touch Controllers</td></tr><tr><td>69.99</td><td>Wireless access point for expanding Wi-Fi coverage</td><td>Dual-Band</td><td> PoE Support</td><td> Easy Setup</td></tr><tr><td>129.99</td><td>Precision sous vide cooker for gourmet cooking</td><td>WiFi Connectivity</td><td> App Control</td><td> Temperature Accuracy</td></tr><tr><td>79.99</td><td>Compact Bluetooth printer for on-the-go printing</td><td>Thermal Printing</td><td> Mobile App Printing</td><td> 4x6 Prints</td></tr><tr><td>299.99</td><td>Wireless security system for home protection</td><td>HD Cameras</td><td> Motion Detection</td><td> Mobile Alerts</td></tr><tr><td>399.99</td><td>Interactive smart mirror with built-in display</td><td>Fitness Tracking</td><td> Weather Updates</td><td> Voice Assistant</td></tr><tr><td>49.99</td><td>Bluetooth car kit for hands-free calling and music</td><td>FM Transmitter</td><td> Dual USB Charging</td><td> Voice Assistant</td></tr><tr><td>24.99</td><td>Wireless charging pad for Qi-compatible devices</td><td>10W Fast Charging</td><td> LED Indicator</td><td> Anti-Slip Design</td></tr><tr><td>299.99</td><td>Electric scooter for urban commuting</td><td>250W Motor</td><td> 15.5 MPH Max Speed</td><td> Foldable Design</td></tr><tr><td>79.99</td><td>Weather station for accurate weather forecasts</td><td>Indoor/Outdoor Sensors</td><td> Color Display</td><td> Wind Speed</td></tr><tr><td>59.99</td><td>Indoor smart garden kit for growing herbs and plants</td><td>LED Grow Light</td><td> Automated Watering</td><td> App Monitoring</td></tr><tr><td>69.99</td><td>Affordable wireless earbuds with great sound</td><td>Bluetooth 5.0</td><td> IPX5 Water Resistance</td><td> Touch Controls</td></tr><tr><td>79.99</td><td>Tech-friendly backpack with built-in charging port</td><td>USB Charging Port</td><td> Anti-Theft Design</td><td> Water-Resistant</td></tr><tr><td>79.99</td><td>Portable car jump starter for emergencies</td><td>12000mAh Capacity</td><td> LED Flashlight</td><td> Safety Protection</td></tr><tr><td>29.99</td><td>Bluetooth FM transmitter for car audio streaming</td><td>Hands-Free Calling</td><td> USB Charging</td><td> EQ Modes</td></tr></tbody></table></div>"
      ]
     },
     "metadata": {
      "application/vnd.databricks.v1+output": {
       "addedWidgets": {},
       "aggData": [],
       "aggError": "",
       "aggOverflow": false,
       "aggSchema": [],
       "aggSeriesLimitReached": false,
       "aggType": "",
       "arguments": {},
       "columnCustomDisplayInfos": {},
       "data": [
        [
         699.99,
         "A high-end smartphone with advanced features",
         "5G Connectivity",
         " AI Camera",
         " OLED Display"
        ],
        [
         1099.99,
         "Powerful laptop for productivity and gaming",
         "15.6-inch Full HD",
         " Intel Core i7",
         " NVIDIA GeForce GTX 1650"
        ],
        [
         899.99,
         "4K UltraHD Smart TV with streaming capabilities",
         "55-inch Display",
         " Dolby Vision",
         " Smart Remote"
        ],
        [
         149.99,
         "High-quality wireless headphones for music lovers",
         "Bluetooth 5.0",
         " Active Noise Cancellation",
         " 20-hour Battery Life"
        ],
        [
         549.99,
         "Versatile tablet for work and entertainment",
         "11-inch Display",
         " S Pen Support",
         " DeX Mode"
        ],
        [
         49.99,
         "Compact smart speaker with voice assistant",
         "Voice Control",
         " Music Streaming",
         " Multi-Room Audio"
        ],
        [
         299.99,
         "Rugged action camera for capturing adventures",
         "4K Video",
         " Waterproof",
         " Built-in Wi-Fi"
        ],
        [
         499.99,
         "Next-gen gaming console for immersive gameplay",
         "4K Gaming",
         " Ray Tracing",
         " Fast Loading Times"
        ],
        [
         199.99,
         "Energy-efficient thermostat for home automation",
         "Programmable",
         " Smartphone App Control",
         " Energy Savings"
        ],
        [
         249.99,
         "Smart robot vacuum for hands-free cleaning",
         "Lidar Navigation",
         " App Control",
         " Multi-Surface Cleaning"
        ],
        [
         199.99,
         "Fitness-focused smartwatch with health tracking",
         "Heart Rate Monitoring",
         " GPS",
         " Sleep Analysis"
        ],
        [
         79.99,
         "Portable Bluetooth speaker for on-the-go music",
         "Waterproof",
         " 12-hour Battery Life",
         " Aux-in Port"
        ],
        [
         29.99,
         "Ergonomic wireless mouse for comfortable use",
         "2.4GHz Connectivity",
         " DPI Adjustable",
         " Silent Click"
        ],
        [
         149.99,
         "High-speed external SSD for data storage",
         "500GB Capacity",
         " USB 3.1",
         " Shock-resistant"
        ],
        [
         129.99,
         "Indoor/outdoor security camera for home surveillance",
         "1080p HD",
         " Night Vision",
         " Motion Detection"
        ],
        [
         79.99,
         "Wireless in-ear earbuds with clear sound",
         "Noise Isolation",
         " Touch Controls",
         " Charging Case"
        ],
        [
         39.99,
         "Multiport USB-C hub for laptop connectivity",
         "4 USB Ports",
         " HDMI",
         " SD Card Reader"
        ],
        [
         299.99,
         "Compact projector for movie nights and presentations",
         "720p HD",
         " Keystone Correction",
         " Built-in Speaker"
        ],
        [
         59.99,
         "High-tech electric toothbrush for oral hygiene",
         "Sonic Technology",
         " Timer",
         " Pressure Sensor"
        ],
        [
         49.99,
         "Slim wireless keyboard for comfortable typing",
         "Full-size Layout",
         " Long Battery Life",
         " Quiet Keys"
        ],
        [
         999.99,
         "Professional-grade drone for aerial photography",
         "4K Camera",
         " GPS",
         " 30-minute Flight Time"
        ],
        [
         199.99,
         "Ergonomic desk chair for improved posture",
         "Adjustable Height",
         " Lumbar Support",
         " Breathable Fabric"
        ],
        [
         499.99,
         "Complete home theater system for cinematic experience",
         "5.1 Surround Sound",
         " Blu-ray Player",
         " Wireless Subwoofer"
        ],
        [
         29.99,
         "High-capacity portable charger for mobile devices",
         "20000mAh Capacity",
         " Quick Charge",
         " LED Display"
        ],
        [
         89.99,
         "High-speed wireless router for fast internet",
         "Dual-Band",
         " Beamforming Technology",
         " Parental Controls"
        ],
        [
         79.99,
         "Dash cam for recording driving adventures",
         "1080p HD",
         " G-Sensor",
         " Loop Recording"
        ],
        [
         19.99,
         "Smart plug for remote control of devices",
         "Voice Control",
         " Timer Function",
         " Energy Monitoring"
        ],
        [
         399.99,
         "Versatile hybrid bike for commuting and leisure",
         "Aluminum Frame",
         " 21-Speed Gears",
         " Front Suspension"
        ],
        [
         129.99,
         "Large-capacity external hard drive for data backup",
         "2TB Storage",
         " USB 3.0",
         " Automatic Backup"
        ],
        [
         199.99,
         "Mesh Wi-Fi system for whole-home coverage",
         "Tri-Band",
         " MU-MIMO",
         " Mobile App Setup"
        ],
        [
         129.99,
         "Wireless earbuds with noise cancellation",
         "ANC",
         " Transparency Mode",
         " IPX4 Water Resistance"
        ],
        [
         149.99,
         "Smart lock for enhanced home security",
         "Keyless Entry",
         " Smartphone Control",
         " Auto-Locking"
        ],
        [
         349.99,
         "High-resolution 4K monitor for crystal-clear visuals",
         "27-inch Display",
         " HDR Support",
         " USB-C Connectivity"
        ],
        [
         79.99,
         "RGB gaming keyboard with customizable lighting",
         "Mechanical Keys",
         " Anti-Ghosting",
         " Programmable Macros"
        ],
        [
         299.99,
         "Virtual reality headset for immersive gaming and experiences",
         "OLED Display",
         " Room-scale Tracking",
         " Touch Controllers"
        ],
        [
         69.99,
         "Wireless access point for expanding Wi-Fi coverage",
         "Dual-Band",
         " PoE Support",
         " Easy Setup"
        ],
        [
         129.99,
         "Precision sous vide cooker for gourmet cooking",
         "WiFi Connectivity",
         " App Control",
         " Temperature Accuracy"
        ],
        [
         79.99,
         "Compact Bluetooth printer for on-the-go printing",
         "Thermal Printing",
         " Mobile App Printing",
         " 4x6 Prints"
        ],
        [
         299.99,
         "Wireless security system for home protection",
         "HD Cameras",
         " Motion Detection",
         " Mobile Alerts"
        ],
        [
         399.99,
         "Interactive smart mirror with built-in display",
         "Fitness Tracking",
         " Weather Updates",
         " Voice Assistant"
        ],
        [
         49.99,
         "Bluetooth car kit for hands-free calling and music",
         "FM Transmitter",
         " Dual USB Charging",
         " Voice Assistant"
        ],
        [
         24.99,
         "Wireless charging pad for Qi-compatible devices",
         "10W Fast Charging",
         " LED Indicator",
         " Anti-Slip Design"
        ],
        [
         299.99,
         "Electric scooter for urban commuting",
         "250W Motor",
         " 15.5 MPH Max Speed",
         " Foldable Design"
        ],
        [
         79.99,
         "Weather station for accurate weather forecasts",
         "Indoor/Outdoor Sensors",
         " Color Display",
         " Wind Speed"
        ],
        [
         59.99,
         "Indoor smart garden kit for growing herbs and plants",
         "LED Grow Light",
         " Automated Watering",
         " App Monitoring"
        ],
        [
         69.99,
         "Affordable wireless earbuds with great sound",
         "Bluetooth 5.0",
         " IPX5 Water Resistance",
         " Touch Controls"
        ],
        [
         79.99,
         "Tech-friendly backpack with built-in charging port",
         "USB Charging Port",
         " Anti-Theft Design",
         " Water-Resistant"
        ],
        [
         79.99,
         "Portable car jump starter for emergencies",
         "12000mAh Capacity",
         " LED Flashlight",
         " Safety Protection"
        ],
        [
         29.99,
         "Bluetooth FM transmitter for car audio streaming",
         "Hands-Free Calling",
         " USB Charging",
         " EQ Modes"
        ]
       ],
       "datasetInfos": [],
       "dbfsResultPath": null,
       "isJsonSchema": true,
       "metadata": {},
       "overflow": false,
       "plotOptions": {
        "customPlotOptions": {},
        "displayType": "table",
        "pivotAggregation": null,
        "pivotColumns": null,
        "xColumns": null,
        "yColumns": null
       },
       "removedWidgets": [],
       "schema": [
        {
         "metadata": "{}",
         "name": "Product_ID",
         "type": "\"double\""
        },
        {
         "metadata": "{}",
         "name": "Product_Name",
         "type": "\"string\""
        },
        {
         "metadata": "{}",
         "name": "Price",
         "type": "\"string\""
        },
        {
         "metadata": "{}",
         "name": "Description",
         "type": "\"string\""
        },
        {
         "metadata": "{}",
         "name": "Features",
         "type": "\"string\""
        }
       ],
       "type": "table"
      }
     },
     "output_type": "display_data"
    }
   ],
   "source": [
    "import pandas as pd\n",
    "\n",
    "# Replace <username> with your workspace email ID\n",
    "file_path = '/Workspace/Users/rashmi.dillyappa@gmail.com/products.csv'\n",
    "\n",
    "df = pd.read_csv(file_path)\n",
    "display(df)"
   ]
  }
 ],
 "metadata": {
  "application/vnd.databricks.v1+notebook": {
   "computePreferences": null,
   "dashboards": [],
   "environmentMetadata": {
    "base_environment": "",
    "environment_version": "3"
   },
   "inputWidgetPreferences": null,
   "language": "python",
   "notebookMetadata": {
    "pythonIndentUnit": 4
   },
   "notebookName": "Untitled Notebook 2025-10-06 16:41:02",
   "widgets": {}
  },
  "language_info": {
   "name": "python"
  }
 },
 "nbformat": 4,
 "nbformat_minor": 0
}