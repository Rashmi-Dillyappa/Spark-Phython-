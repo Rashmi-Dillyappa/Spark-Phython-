{
 "cells": [
  {
   "cell_type": "code",
   "execution_count": 0,
   "metadata": {
    "application/vnd.databricks.v1+cell": {
     "cellMetadata": {
      "byteLimit": 2048000,
      "rowLimit": 10000
     },
     "inputWidgets": {},
     "nuid": "ae89a84e-5f50-42fd-920b-d30b868e9a4b",
     "showTitle": false,
     "tableResultSettingsMap": {},
     "title": ""
    }
   },
   "outputs": [
    {
     "output_type": "stream",
     "name": "stdout",
     "output_type": "stream",
     "text": [
      "   Transaction ID  Customer ID  ...            Timestamp  Discount\n0               1           11  ...  2023-03-24 22:23:56       0.0\n1               2            2  ...  2023-10-28 12:37:23       0.0\n2               3            4  ...  2023-04-28 13:01:52       0.0\n3               4           14  ...  2023-06-05 05:55:17       0.0\n4               5           25  ...  2023-05-29 21:37:52       0.0\n\n[5 rows x 8 columns]\n"
     ]
    }
   ],
   "source": [
    "import pandas as pd\n",
    "\n",
    "# Replace <username> with your workspace email ID\n",
    "file_path = \"/Workspace/Users/rashmi.dillyappa@gmail.com/sales.csv\"\n",
    "\n",
    "df = pd.read_csv(file_path)\n",
    "display(df)\n",
    "\n",
    "# Filter rows where Total Price > 200 using pandas\n",
    "high_value_transactions = df[df[\"Total Price\"] > 200]\n",
    "\n",
    "# Display the filtered data\n",
    "print(high_value_transactions)\n",
    "\n",
    "\n",
    "# Filter transactions where Total Price > 200 and Timestamp is in 2023\n",
    "filtered_df = df[\n",
    "    (df[\"Total Price\"] > 200) &\n",
    "    (df[\"Timestamp\"].between(\"2023-01-01\", \"2023-06-31\"))\n",
    "]\n",
    "\n",
    "# Display the filtered dataframe\n",
    "print(filtered_df)\n",
    "\n",
    "\n",
    "\n",
    "# Assuming df is your pandas DataFrame\n",
    "df['Discount'] = 0.0  # Adds a new column with default value 0.0\n",
    "print(df.head())\n"
   ]
  }
 ],
 "metadata": {
  "application/vnd.databricks.v1+notebook": {
   "computePreferences": null,
   "dashboards": [],
   "environmentMetadata": {
    "base_environment": "",
    "environment_version": "3"
   },
   "inputWidgetPreferences": null,
   "language": "python",
   "notebookMetadata": {
    "pythonIndentUnit": 4
   },
   "notebookName": "Untitled Notebook 2025-10-06 16:41:02",
   "widgets": {}
  },
  "language_info": {
   "name": "python"
  }
 },
 "nbformat": 4,
 "nbformat_minor": 0
}